{
 "cells": [
  {
   "cell_type": "markdown",
   "metadata": {},
   "source": [
    "# 정규표현식 과제"
   ]
  },
  {
   "cell_type": "code",
   "execution_count": 1,
   "metadata": {
    "collapsed": true
   },
   "outputs": [],
   "source": [
    "import re"
   ]
  },
  {
   "cell_type": "markdown",
   "metadata": {},
   "source": [
    "## Tutorials"
   ]
  },
  {
   "cell_type": "markdown",
   "metadata": {},
   "source": [
    "** Exercise 1: Matching Characters **"
   ]
  },
  {
   "cell_type": "code",
   "execution_count": null,
   "metadata": {
    "collapsed": true
   },
   "outputs": [],
   "source": [
    "(abc)\\w*"
   ]
  },
  {
   "cell_type": "markdown",
   "metadata": {},
   "source": [
    "** Exercise 1½: Matching Digits **"
   ]
  },
  {
   "cell_type": "code",
   "execution_count": null,
   "metadata": {
    "collapsed": true
   },
   "outputs": [],
   "source": [
    ".+(123).+"
   ]
  },
  {
   "cell_type": "markdown",
   "metadata": {},
   "source": [
    "** Exercise 2: Matching With Wildcards **"
   ]
  },
  {
   "cell_type": "code",
   "execution_count": null,
   "metadata": {
    "collapsed": true
   },
   "outputs": [],
   "source": [
    ".+\\."
   ]
  },
  {
   "cell_type": "markdown",
   "metadata": {},
   "source": [
    "** Exercise 3: Matching Characters **"
   ]
  },
  {
   "cell_type": "code",
   "execution_count": null,
   "metadata": {
    "collapsed": true
   },
   "outputs": [],
   "source": [
    "[cmf]an"
   ]
  },
  {
   "cell_type": "markdown",
   "metadata": {},
   "source": [
    "** Exercise 4: Excluding Characters **"
   ]
  },
  {
   "cell_type": "markdown",
   "metadata": {},
   "source": [
    "Match: hog, dog\n",
    "Skip : bog"
   ]
  },
  {
   "cell_type": "code",
   "execution_count": null,
   "metadata": {
    "collapsed": true
   },
   "outputs": [],
   "source": [
    "[^b]og"
   ]
  },
  {
   "cell_type": "markdown",
   "metadata": {},
   "source": [
    "** Exercise 5: Matching Character Ranges **"
   ]
  },
  {
   "cell_type": "markdown",
   "metadata": {},
   "source": [
    "Match : Ana, Bob, Cpc\n",
    "Skip : aax, bby, ccz"
   ]
  },
  {
   "cell_type": "code",
   "execution_count": null,
   "metadata": {
    "collapsed": true
   },
   "outputs": [],
   "source": [
    "[A-Z]\\w+"
   ]
  },
  {
   "cell_type": "markdown",
   "metadata": {},
   "source": [
    "** Exercise 6: Matching Repeated Characters **"
   ]
  },
  {
   "cell_type": "markdown",
   "metadata": {},
   "source": [
    "Match : wazzzzzup, wazzzup\n",
    "Skip : wazup"
   ]
  },
  {
   "cell_type": "code",
   "execution_count": null,
   "metadata": {
    "collapsed": true
   },
   "outputs": [],
   "source": [
    "wa[z]{2}\\w+\n",
    "waz{3,5}up"
   ]
  },
  {
   "cell_type": "markdown",
   "metadata": {},
   "source": [
    "** Exercise 7: Matching Repeated Characters **"
   ]
  },
  {
   "cell_type": "markdown",
   "metadata": {},
   "source": [
    "Match : aaaabcc, aabbbbc, aacc\n",
    "Skip : a"
   ]
  },
  {
   "cell_type": "code",
   "execution_count": null,
   "metadata": {
    "collapsed": true
   },
   "outputs": [],
   "source": [
    "a{2,4}b*c+"
   ]
  },
  {
   "cell_type": "markdown",
   "metadata": {},
   "source": [
    "** Exercise 8: Matching Optional Characters **"
   ]
  },
  {
   "cell_type": "markdown",
   "metadata": {},
   "source": [
    "Match : 1 file found?\n",
    "        2 files found?\n",
    "        24 files found?\n",
    "Skip : No files found."
   ]
  },
  {
   "cell_type": "code",
   "execution_count": null,
   "metadata": {
    "collapsed": true
   },
   "outputs": [],
   "source": [
    "\\d+ files? found\\?"
   ]
  },
  {
   "cell_type": "markdown",
   "metadata": {},
   "source": [
    "** Exercise 9: Matching Whitespaces **"
   ]
  },
  {
   "cell_type": "markdown",
   "metadata": {},
   "source": [
    "Match : 1.  abc\t\n",
    "        2.   abc\t\n",
    "        3.           abc\n",
    "Skip :  4.abc"
   ]
  },
  {
   "cell_type": "code",
   "execution_count": null,
   "metadata": {
    "collapsed": true
   },
   "outputs": [],
   "source": [
    "\\d\\.\\s+abc"
   ]
  },
  {
   "cell_type": "markdown",
   "metadata": {},
   "source": [
    "** Exercise 10: Matching Lines **"
   ]
  },
  {
   "cell_type": "markdown",
   "metadata": {},
   "source": [
    "Match : Mission: successful\n",
    "Skip :  Last Mission: unsuccessful\n",
    "        Next Mission: successful upon capture of target"
   ]
  },
  {
   "cell_type": "code",
   "execution_count": null,
   "metadata": {
    "collapsed": true
   },
   "outputs": [],
   "source": [
    "^Mission: successful$"
   ]
  },
  {
   "cell_type": "markdown",
   "metadata": {},
   "source": [
    "** Exercise 11: Matching Groups **"
   ]
  },
  {
   "cell_type": "markdown",
   "metadata": {},
   "source": [
    "Capture : file_record_transcript.pdf\n",
    "          file_07241999.pdf\n",
    "Skip :    testfile_fake.pdf.tmp"
   ]
  },
  {
   "cell_type": "code",
   "execution_count": null,
   "metadata": {
    "collapsed": true
   },
   "outputs": [],
   "source": [
    "^(file_\\w+)\\.pdf$"
   ]
  },
  {
   "cell_type": "markdown",
   "metadata": {},
   "source": [
    "** Exercise 12: Matching Nested Groups **"
   ]
  },
  {
   "cell_type": "markdown",
   "metadata": {},
   "source": [
    "Capture : Jan 1987      Capture group : Jan 1987, 1987\n",
    "          May 1969                      May 1969, 1969\n",
    "          Aug 2011                      Aug 2011, 2011"
   ]
  },
  {
   "cell_type": "code",
   "execution_count": null,
   "metadata": {
    "collapsed": true
   },
   "outputs": [],
   "source": [
    "^(\\w{3}\\s(\\d{4}))\n",
    "(\\w+ (\\d+))"
   ]
  },
  {
   "cell_type": "markdown",
   "metadata": {},
   "source": [
    "** Exercise 13: Matching Nested Groups **"
   ]
  },
  {
   "cell_type": "markdown",
   "metadata": {},
   "source": [
    "Task\tText\tCapture Groups\t \n",
    "Capture\t1280x720\t1280 720\t\n",
    "Capture\t1920x1600\t1920 1600\t\n",
    "Capture\t1024x768\t1024 768\t"
   ]
  },
  {
   "cell_type": "code",
   "execution_count": null,
   "metadata": {
    "collapsed": true
   },
   "outputs": [],
   "source": [
    "(\\d{4})x(\\d{3}\\d?)\n",
    "(\\d+)x(\\d+)"
   ]
  },
  {
   "cell_type": "markdown",
   "metadata": {},
   "source": [
    "** Exercise 14: Matching Conditional Text **"
   ]
  },
  {
   "cell_type": "markdown",
   "metadata": {},
   "source": [
    "Match : I love cats\n",
    "        I love dogs\n",
    "Skip :  I love logs\n",
    "        I love cogs"
   ]
  },
  {
   "cell_type": "code",
   "execution_count": null,
   "metadata": {
    "collapsed": true
   },
   "outputs": [],
   "source": [
    "I love (cats|dogs)"
   ]
  },
  {
   "cell_type": "markdown",
   "metadata": {},
   "source": [
    "** Exercise 15: Matching Other Special Characters **"
   ]
  },
  {
   "cell_type": "markdown",
   "metadata": {},
   "source": [
    "Match\tThe quick brown fox jumps over the lazy dog.\t\n",
    "Match\tThere were 614 instances of students getting 90.0% or above.\t\n",
    "Match\tThe FCC had to censor the network for saying &$#*@!."
   ]
  },
  {
   "cell_type": "code",
   "execution_count": null,
   "metadata": {
    "collapsed": true
   },
   "outputs": [],
   "source": [
    "The(re)?.+\n",
    ".*"
   ]
  },
  {
   "cell_type": "markdown",
   "metadata": {},
   "source": [
    "### Problem"
   ]
  },
  {
   "cell_type": "markdown",
   "metadata": {},
   "source": [
    "** Exercise 1: Matching Numbers **"
   ]
  },
  {
   "cell_type": "markdown",
   "metadata": {},
   "source": [
    "Match\t3.14529\tSuccess\n",
    "Match\t-255.34\tSuccess\n",
    "Match\t128\tSuccess\n",
    "Match\t1.9e10\tSuccess\n",
    "Match\t123,340.00\tSuccess\n",
    "Skip\t720p"
   ]
  },
  {
   "cell_type": "code",
   "execution_count": null,
   "metadata": {
    "collapsed": true
   },
   "outputs": [],
   "source": [
    ".+\\d$\n",
    "^-?\\d+(,\\d+)*(\\.\\d+(e\\d+)?)?$"
   ]
  },
  {
   "cell_type": "markdown",
   "metadata": {},
   "source": [
    "**Exercise 2: Matching Phone Numbers**"
   ]
  },
  {
   "cell_type": "markdown",
   "metadata": {},
   "source": [
    "Task\tText\t   Capture Groups\t \n",
    "Capture\t415-555-1234\t415\tSuccess\n",
    "Capture\t650-555-2345\t650\tSuccess\n",
    "Capture\t(416)555-3456\t416\tSuccess\n",
    "Capture\t202 555 4567\t202\tSuccess\n",
    "Capture\t4035555678\t    403\tSuccess\n",
    "Capture\t1 416 555 9292\t416\tSuccess"
   ]
  },
  {
   "cell_type": "code",
   "execution_count": null,
   "metadata": {
    "collapsed": true
   },
   "outputs": [],
   "source": [
    "(\\(|\\d\\s)?(\\d{3})[-\\)\\s]?\\d{3}[-\\s]?\\d{4}\n",
    "1?[\\s-]?\\(?(\\d{3})\\)?[\\s-]?\\d{3}[\\s-]?\\d{4}"
   ]
  },
  {
   "cell_type": "markdown",
   "metadata": {},
   "source": [
    "**Exercise 3: Matching Emails**"
   ]
  },
  {
   "cell_type": "markdown",
   "metadata": {},
   "source": [
    "Task\tText\t                                Capture Groups\t \n",
    "Capture\ttom@hogwarts.com\t                     tom\tSuccess\n",
    "Capture\ttom.riddle@hogwarts.com\t                 tom.riddle\tSuccess\n",
    "Capture\ttom.riddle+regexone@hogwarts.com\t     tom.riddle\tSuccess\n",
    "Capture\ttom@hogwarts.eu.com\t                     tom\tSuccess\n",
    "Capture\tpotter@hogwarts.com\t                     potter\tSuccess\n",
    "Capture\tharry@hogwarts.com\t                     harry\tSuccess\n",
    "Capture\thermione+regexone@hogwarts.com\t         hermione\tSuccess"
   ]
  },
  {
   "cell_type": "code",
   "execution_count": null,
   "metadata": {
    "collapsed": true
   },
   "outputs": [],
   "source": [
    "(\\w+\\.?\\w+)\n",
    "^([\\w\\.]*)"
   ]
  },
  {
   "cell_type": "markdown",
   "metadata": {},
   "source": [
    "**Exercise 4: Capturing HTML Tags**"
   ]
  },
  {
   "cell_type": "markdown",
   "metadata": {},
   "source": [
    "Task\tText\t                                 Capture Groups\t \n",
    "Capture\t<a>This is a link</a>\t                         a\tSuccess\n",
    "Capture\t<a href='https://regexone.com'>Link</a>\t         a\tSuccess\n",
    "Capture\t<div class='test_style'>Test</div>\t             div\tSuccess\n",
    "Capture\t<div>Hello <span>world</span></div>\t             div\tSuccess\n"
   ]
  },
  {
   "cell_type": "code",
   "execution_count": null,
   "metadata": {
    "collapsed": true
   },
   "outputs": [],
   "source": [
    "^<(\\w+\\b)\n",
    "<(\\w+)"
   ]
  },
  {
   "cell_type": "markdown",
   "metadata": {},
   "source": [
    "**Exercise 5: Capturing Filename Data**"
   ]
  },
  {
   "cell_type": "markdown",
   "metadata": {},
   "source": [
    "Task\tText\t            Capture Groups\t \n",
    "Skip\t.bash_profile\t\tTo be completed\n",
    "Skip\tworkspace.doc\t\tTo be completed\n",
    "Capture\timg0912.jpg\timg0912 jpg\tSuccess\n",
    "Capture\tupdated_img0912.png\tupdated_img0912 png\tSuccess\n",
    "Skip\tdocumentation.html\t\tTo be completed\n",
    "Capture\tfavicon.gif\tfavicon gif\tSuccess\n",
    "Skip\timg0912.jpg.tmp\t\tTo be completed\n",
    "Skip\taccess.lock\t\t"
   ]
  },
  {
   "cell_type": "code",
   "execution_count": null,
   "metadata": {
    "collapsed": true
   },
   "outputs": [],
   "source": [
    "(.+)\\.((jpg|png|gif)$)\n",
    "(\\w+)\\.(jpg|png|gif)$"
   ]
  },
  {
   "cell_type": "markdown",
   "metadata": {},
   "source": [
    "**Exercise 6: Matching Lines**"
   ]
  },
  {
   "cell_type": "markdown",
   "metadata": {},
   "source": [
    "Task\t                    Text\t            Capture Groups\t \n",
    "Capture\t\t\t\tThe quick brown fox...\tThe quick brown fox...\tSuccess\n",
    "Capture\t   jumps over the lazy dog.\t        jumps over the lazy dog.\tSuccess\n"
   ]
  },
  {
   "cell_type": "code",
   "execution_count": null,
   "metadata": {
    "collapsed": true
   },
   "outputs": [],
   "source": [
    "\\s+(.+)\n",
    "^\\s*(.*)\\s*$"
   ]
  },
  {
   "cell_type": "markdown",
   "metadata": {},
   "source": [
    "**Exercise 7: Extracting Data From Log Entries**"
   ]
  },
  {
   "cell_type": "markdown",
   "metadata": {},
   "source": [
    "Task\tText\t                                                      Capture Groups\t \n",
    "Skip\tW/dalvikvm( 1553): threadid=1: uncaught exception\t\t      To be completed\n",
    "Skip\tE/( 1553): FATAL EXCEPTION: main\t\t                      To be completed\n",
    "Skip\tE/( 1553): java.lang.StringIndexOutOfBoundsException\t\t  To be completed\n",
    "Capture\tE/( 1553):   at widget.List.makeView(ListView.java:1727)\t  makeView ListView.java 1727\tSuccess\n",
    "Capture\tE/( 1553):   at widget.List.fillDown(ListView.java:652)\t      fillDown ListView.java 652\tSuccess\n",
    "Capture\tE/( 1553):   at widget.List.fillFrom(ListView.java:709)\t      fillFrom ListView.java 709\tSuccess\n"
   ]
  },
  {
   "cell_type": "code",
   "execution_count": null,
   "metadata": {
    "collapsed": true
   },
   "outputs": [],
   "source": [
    "at\\s\\w+.\\w+\\.(\\w+)\\((.+):(\\d+)\n",
    "(\\w+)\\(([\\w\\.]+):(\\d+)\\)"
   ]
  },
  {
   "cell_type": "markdown",
   "metadata": {},
   "source": [
    "**Exercise 8: Extracting Data From URLs**"
   ]
  },
  {
   "cell_type": "markdown",
   "metadata": {},
   "source": [
    "Task\tText\t                                                        Capture Groups\t \n",
    "Capture\tftp://file_server.com:21/top_secret/life_changing_plans.pdf\t    ftp file_server.com 21\tSuccess\n",
    "Capture\thttps://regexone.com/lesson/introduction#section\t            https regexone.com\tSuccess\n",
    "Capture\tfile://localhost:4040/zip_file\t                                file localhost 4040\tSuccess\n",
    "Capture\thttps://s3cur3-server.com:9999/\t                                https s3cur3-server.com 9999\tSuccess\n",
    "Capture\tmarket://search/angry%20birds\t                                market search\tSuccess\n"
   ]
  },
  {
   "cell_type": "code",
   "execution_count": null,
   "metadata": {
    "collapsed": true
   },
   "outputs": [],
   "source": [
    "(\\w+)://((.+):|(\\w+\\.?\\w+))(\\d+)?\n",
    "(\\w+)://([\\w\\-\\.]+)(:(\\d+))?"
   ]
  }
 ],
 "metadata": {
  "kernelspec": {
   "display_name": "Python 3",
   "language": "python",
   "name": "python3"
  },
  "language_info": {
   "codemirror_mode": {
    "name": "ipython",
    "version": 3
   },
   "file_extension": ".py",
   "mimetype": "text/x-python",
   "name": "python",
   "nbconvert_exporter": "python",
   "pygments_lexer": "ipython3",
   "version": "3.6.1"
  }
 },
 "nbformat": 4,
 "nbformat_minor": 2
}
