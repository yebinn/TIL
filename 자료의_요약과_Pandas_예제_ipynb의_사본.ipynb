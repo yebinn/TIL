{
  "nbformat": 4,
  "nbformat_minor": 0,
  "metadata": {
    "colab": {
      "name": "자료의 요약과 Pandas 예제.ipynb의 사본",
      "version": "0.3.2",
      "provenance": [],
      "private_outputs": true,
      "collapsed_sections": [],
      "include_colab_link": true
    },
    "kernelspec": {
      "name": "python3",
      "display_name": "Python 3"
    }
  },
  "cells": [
    {
      "cell_type": "markdown",
      "metadata": {
        "id": "view-in-github",
        "colab_type": "text"
      },
      "source": [
        "[View in Colaboratory](https://colab.research.google.com/github/yebinn/TIL/blob/master/%EC%9E%90%EB%A3%8C%EC%9D%98_%EC%9A%94%EC%95%BD%EA%B3%BC_Pandas_%EC%98%88%EC%A0%9C_ipynb%EC%9D%98_%EC%82%AC%EB%B3%B8.ipynb)"
      ]
    },
    {
      "metadata": {
        "id": "FnGZcZccjfA3",
        "colab_type": "code",
        "colab": {}
      },
      "cell_type": "code",
      "source": [
        "!pip install --upgrade -q gspread\n",
        "\n",
        "import pandas as pd\n",
        "\n",
        "from google.colab import auth\n",
        "\n",
        "auth.authenticate_user()\n",
        "\n",
        "import gspread\n",
        "from oauth2client.client import GoogleCredentials\n",
        "\n",
        "\n",
        "def get_sheet(title, sheet_name):\n",
        "  gc = gspread.authorize(GoogleCredentials.get_application_default())\n",
        "  return gc.open(title).worksheet(sheet_name)"
      ],
      "execution_count": 0,
      "outputs": []
    },
    {
      "metadata": {
        "id": "QA1i2lktp-yH",
        "colab_type": "text"
      },
      "cell_type": "markdown",
      "source": [
        "# 자료의 요약 시트 불러오기"
      ]
    },
    {
      "metadata": {
        "id": "Z65L_pz7Em-6",
        "colab_type": "code",
        "colab": {}
      },
      "cell_type": "code",
      "source": [
        "# 자료의 요약에 있는 특정 시트를 불러옵니다.\n",
        "# 1번 row를 0번 인덱스로 읽어오는 데, 0번 인덱스를 컬럼으로 지정해 주도록 했습니다.\n",
        "# 그러면 스프레드시트에서 봤던 것 처럼 데이터프레임이 생성됩니다.\n",
        "def get_df(sheet_name):\n",
        "  sheet = get_sheet('자료의 요약', sheet_name)\n",
        "\n",
        "  # Create dataframe from the sheet\n",
        "  rows = sheet.get_all_values()\n",
        "  df = pd.DataFrame.from_records(rows)\n",
        "\n",
        "  df.columns = df.iloc[0]\n",
        "  df = df.reindex(df.index.drop(0))\n",
        "  return df"
      ],
      "execution_count": 0,
      "outputs": []
    },
    {
      "metadata": {
        "id": "zydbsobmTuCO",
        "colab_type": "code",
        "colab": {}
      },
      "cell_type": "code",
      "source": [
        "sheet = get_sheet('자료의 요약', '혈액형')\n",
        "\n",
        "# Create dataframe from the sheet\n",
        "rows = sheet.get_all_values()\n",
        "df = pd.DataFrame.from_records(rows)\n",
        "\n",
        "\n",
        "df.columns = df.iloc[0]\n",
        "df = df.reindex(df.index.drop(0))"
      ],
      "execution_count": 0,
      "outputs": []
    },
    {
      "metadata": {
        "id": "Rg9jU-3pxkrD",
        "colab_type": "text"
      },
      "cell_type": "markdown",
      "source": [
        "# 혈액형"
      ]
    },
    {
      "metadata": {
        "id": "aqcIXpHqxj0T",
        "colab_type": "code",
        "colab": {}
      },
      "cell_type": "code",
      "source": [
        "df_blood = get_df('혈액형')\n",
        "# 상위 5개의 데이터를 가져옵니다.\n",
        "print(df_blood.shape)\n",
        "df_blood.tail(3)"
      ],
      "execution_count": 0,
      "outputs": []
    },
    {
      "metadata": {
        "id": "e8JEvH-0UTv8",
        "colab_type": "code",
        "colab": {}
      },
      "cell_type": "code",
      "source": [
        "df_blood.info()"
      ],
      "execution_count": 0,
      "outputs": []
    },
    {
      "metadata": {
        "id": "dvL-GNVihfzF",
        "colab_type": "code",
        "colab": {}
      },
      "cell_type": "code",
      "source": [
        "df_blood"
      ],
      "execution_count": 0,
      "outputs": []
    },
    {
      "metadata": {
        "id": "cTxrnkenp66k",
        "colab_type": "text"
      },
      "cell_type": "markdown",
      "source": [
        "# 조선왕"
      ]
    },
    {
      "metadata": {
        "id": "M0T5cLsllz1P",
        "colab_type": "code",
        "colab": {}
      },
      "cell_type": "code",
      "source": [
        "df_king = get_df('조선왕')\n",
        "# 상위 5개의 데이터를 가져옵니다.\n",
        "print(df_king.shape)\n",
        "df_king.tail()"
      ],
      "execution_count": 0,
      "outputs": []
    },
    {
      "metadata": {
        "id": "Ac3MgOQSmAg-",
        "colab_type": "code",
        "colab": {}
      },
      "cell_type": "code",
      "source": [
        "# 어떤 컬럼이 있고 데이터의 row, column 수, 데이터 타입을 볼 수 있다.\n",
        "df_king.info()"
      ],
      "execution_count": 0,
      "outputs": []
    },
    {
      "metadata": {
        "id": "gImNQuVrnYlo",
        "colab_type": "code",
        "colab": {}
      },
      "cell_type": "code",
      "source": [
        "df_king.describe()"
      ],
      "execution_count": 0,
      "outputs": []
    },
    {
      "metadata": {
        "id": "04EQOy7CnJMh",
        "colab_type": "code",
        "colab": {}
      },
      "cell_type": "code",
      "source": [
        "# 데이터 타입을 int로 변경해 준다.\n",
        "df_king['life'] = df_king['life'].astype(int)\n",
        "df_king['period'] = df_king['period'].astype(int)\n",
        "# 위와 describe() 했을 때의 정보가 다르다. \n",
        "# 수치형 데이터 일 때 count, mean, std, min/max, 사분위수를 보여준다.\n",
        "df_king.describe()"
      ],
      "execution_count": 0,
      "outputs": []
    },
    {
      "metadata": {
        "id": "cjYrTRvareU8",
        "colab_type": "code",
        "colab": {}
      },
      "cell_type": "code",
      "source": [
        "# 결측치를 보고 싶을 때 널값을 구해 본다.\n",
        "df_king.isnull().sum()"
      ],
      "execution_count": 0,
      "outputs": []
    },
    {
      "metadata": {
        "id": "U10pHKZYsuPk",
        "colab_type": "code",
        "colab": {}
      },
      "cell_type": "code",
      "source": [
        "# 가장 오래 집권한 왕순으로 정렬해 보고 상위 5개의 데이터만 본다.\n",
        "df_king.sort_values(by='period', ascending=False).head(5)"
      ],
      "execution_count": 0,
      "outputs": []
    },
    {
      "metadata": {
        "id": "qRQ6isGes-Xf",
        "colab_type": "code",
        "colab": {}
      },
      "cell_type": "code",
      "source": [
        "# 평균값만 본다.\n",
        "df_king.mean()"
      ],
      "execution_count": 0,
      "outputs": []
    },
    {
      "metadata": {
        "id": "meNs10dntD4M",
        "colab_type": "code",
        "colab": {}
      },
      "cell_type": "code",
      "source": [
        "# 표준편차만 본다.\n",
        "df_king.std()"
      ],
      "execution_count": 0,
      "outputs": []
    },
    {
      "metadata": {
        "id": "V_NNcznBtXfy",
        "colab_type": "code",
        "colab": {}
      },
      "cell_type": "code",
      "source": [
        "# 최대값만 본다. 효종이 나온 이유는 한글 중에 가장 뒤에 있기 때문\n",
        "# life, period도 각 컬럼에서 최대값\n",
        "df_king.max()"
      ],
      "execution_count": 0,
      "outputs": []
    },
    {
      "metadata": {
        "id": "36aLsY9otcle",
        "colab_type": "code",
        "colab": {}
      },
      "cell_type": "code",
      "source": [
        "df_king['period'].max()"
      ],
      "execution_count": 0,
      "outputs": []
    },
    {
      "metadata": {
        "id": "hOdI7ksoq-Ou",
        "colab_type": "code",
        "colab": {}
      },
      "cell_type": "code",
      "source": [
        "df_king['life'].plot()"
      ],
      "execution_count": 0,
      "outputs": []
    },
    {
      "metadata": {
        "id": "HyLFCNoLpxtS",
        "colab_type": "code",
        "colab": {}
      },
      "cell_type": "code",
      "source": [
        "df_king['life'].hist()"
      ],
      "execution_count": 0,
      "outputs": []
    },
    {
      "metadata": {
        "id": "jRsfMFhyqlmp",
        "colab_type": "code",
        "colab": {}
      },
      "cell_type": "code",
      "source": [
        "df_king['period'].hist(stacked=True, bins=10)"
      ],
      "execution_count": 0,
      "outputs": []
    },
    {
      "metadata": {
        "id": "VuBj0N6wpyox",
        "colab_type": "text"
      },
      "cell_type": "markdown",
      "source": [
        "# 타이타닉"
      ]
    },
    {
      "metadata": {
        "id": "AIleTOPdlKra",
        "colab_type": "code",
        "colab": {}
      },
      "cell_type": "code",
      "source": [
        "df_titanic = get_df('타이타닉')\n",
        "print(df_titanic.shape)\n",
        "# 상위 5개의 데이터를 가져옵니다.\n",
        "df_titanic.head()"
      ],
      "execution_count": 0,
      "outputs": []
    },
    {
      "metadata": {
        "id": "YKKFIPGQZ1Tt",
        "colab_type": "code",
        "colab": {}
      },
      "cell_type": "code",
      "source": [
        "# 어떤 컬럼이 있는지 보여줍니다.\n",
        "df_titanic.columns"
      ],
      "execution_count": 0,
      "outputs": []
    },
    {
      "metadata": {
        "id": "AZa4ciw4l33E",
        "colab_type": "code",
        "colab": {}
      },
      "cell_type": "code",
      "source": [
        "# 컬럼 정보를 보여줍니다.\n",
        "df_titanic.info()"
      ],
      "execution_count": 0,
      "outputs": []
    },
    {
      "metadata": {
        "id": "S-QZdW8Hl4Tf",
        "colab_type": "code",
        "colab": {}
      },
      "cell_type": "code",
      "source": [
        "# 자료의 요약을 보여줍니다.\n",
        "df_titanic.describe()"
      ],
      "execution_count": 0,
      "outputs": []
    },
    {
      "metadata": {
        "id": "ql9I3BkkL23U",
        "colab_type": "code",
        "colab": {}
      },
      "cell_type": "code",
      "source": [
        "df_titanic['Class'].value_counts()"
      ],
      "execution_count": 0,
      "outputs": []
    },
    {
      "metadata": {
        "id": "-EZ59H4PZNGT",
        "colab_type": "code",
        "colab": {}
      },
      "cell_type": "code",
      "source": [
        "df_titanic['생존여부'].value_counts()"
      ],
      "execution_count": 0,
      "outputs": []
    },
    {
      "metadata": {
        "id": "waACbeuNaAXU",
        "colab_type": "code",
        "colab": {}
      },
      "cell_type": "code",
      "source": [
        ""
      ],
      "execution_count": 0,
      "outputs": []
    },
    {
      "metadata": {
        "id": "w73vUztWXLWS",
        "colab_type": "text"
      },
      "cell_type": "markdown",
      "source": [
        "# **화장지 불량률**"
      ]
    },
    {
      "metadata": {
        "id": "YdRdDauZXOn4",
        "colab_type": "code",
        "colab": {}
      },
      "cell_type": "code",
      "source": [
        "df_tissue = get_df('화장지 불량률')\n",
        "print(df_tissue.shape)\n",
        "df_tissue.head()\n",
        "df_tissue.columns\n",
        "\n",
        "df_tissue.describe()"
      ],
      "execution_count": 0,
      "outputs": []
    },
    {
      "metadata": {
        "id": "0rLbA8cdYD4J",
        "colab_type": "code",
        "colab": {}
      },
      "cell_type": "code",
      "source": [
        "df_tissue['화장지 불량 종류'].value_counts()"
      ],
      "execution_count": 0,
      "outputs": []
    },
    {
      "metadata": {
        "id": "UKZ3AavFYVPw",
        "colab_type": "code",
        "colab": {}
      },
      "cell_type": "code",
      "source": [
        "df_tissue['화장지 불량 종류'].hist()"
      ],
      "execution_count": 0,
      "outputs": []
    },
    {
      "metadata": {
        "id": "-7EHCRbwZe_-",
        "colab_type": "text"
      },
      "cell_type": "markdown",
      "source": [
        "# **GNP**"
      ]
    },
    {
      "metadata": {
        "id": "ywWbEz2jZoqT",
        "colab_type": "code",
        "colab": {}
      },
      "cell_type": "code",
      "source": [
        "df_gnp = get_df('GNP')\n",
        "print(df_gnp.shape)\n",
        "df_gnp.head()"
      ],
      "execution_count": 0,
      "outputs": []
    },
    {
      "metadata": {
        "id": "FAauHKShZ8Tx",
        "colab_type": "code",
        "colab": {}
      },
      "cell_type": "code",
      "source": [
        "df_gnp.describe()"
      ],
      "execution_count": 0,
      "outputs": []
    },
    {
      "metadata": {
        "id": "hRKEe5cbzYsw",
        "colab_type": "code",
        "colab": {}
      },
      "cell_type": "code",
      "source": [
        "df_gnp.sort_values(by='GNP대비 교육비 지출 비율', ascending=False).head(5)"
      ],
      "execution_count": 0,
      "outputs": []
    },
    {
      "metadata": {
        "id": "6w7nXcSn0Vad",
        "colab_type": "code",
        "colab": {}
      },
      "cell_type": "code",
      "source": [
        "# 데이터 타입을 int로 변경해 준다.\n",
        "df_gnp['GNP대비 교육비 지출 비율'] = df_gnp['GNP대비 교육비 지출 비율'].astype(float)\n",
        "# 위와 describe() 했을 때의 정보가 다르다. \n",
        "# 수치형 데이터 일 때 count, mean, std, min/max, 사분위수를 보여준다.\n",
        "df_gnp.describe()"
      ],
      "execution_count": 0,
      "outputs": []
    },
    {
      "metadata": {
        "id": "orCvG-HH0qmD",
        "colab_type": "code",
        "colab": {}
      },
      "cell_type": "code",
      "source": [
        "df_gnp"
      ],
      "execution_count": 0,
      "outputs": []
    },
    {
      "metadata": {
        "id": "0qLnjOVB6GxD",
        "colab_type": "code",
        "colab": {}
      },
      "cell_type": "code",
      "source": [
        "df_gnp.plot(kind='bar', x = df_gnp['국가'])"
      ],
      "execution_count": 0,
      "outputs": []
    },
    {
      "metadata": {
        "id": "Ya9mFRbk7cmd",
        "colab_type": "text"
      },
      "cell_type": "markdown",
      "source": [
        "# **집 값**"
      ]
    },
    {
      "metadata": {
        "id": "QnRvHjAQ7lAZ",
        "colab_type": "code",
        "colab": {}
      },
      "cell_type": "code",
      "source": [
        "df_house = get_df('집 값')\n",
        "print(df_house.shape)\n",
        "df_house.head()"
      ],
      "execution_count": 0,
      "outputs": []
    },
    {
      "metadata": {
        "id": "1HaWoykW7-9n",
        "colab_type": "code",
        "colab": {}
      },
      "cell_type": "code",
      "source": [
        "df_house.describe()"
      ],
      "execution_count": 0,
      "outputs": []
    },
    {
      "metadata": {
        "id": "gApWqV398QCb",
        "colab_type": "code",
        "colab": {}
      },
      "cell_type": "code",
      "source": [
        "df_house['주택가격'] = df_house['주택가격'].astype(float)\n",
        "df_house.describe(include = 'all')"
      ],
      "execution_count": 0,
      "outputs": []
    },
    {
      "metadata": {
        "id": "ZTEOHnXN9TcC",
        "colab_type": "code",
        "colab": {}
      },
      "cell_type": "code",
      "source": [
        "df_house.groupby('도심&외각').describe()"
      ],
      "execution_count": 0,
      "outputs": []
    },
    {
      "metadata": {
        "id": "tkk8u3M2Azba",
        "colab_type": "text"
      },
      "cell_type": "markdown",
      "source": [
        "# **포유류**"
      ]
    },
    {
      "metadata": {
        "id": "xErxGBhzBAhV",
        "colab_type": "code",
        "colab": {}
      },
      "cell_type": "code",
      "source": [
        "df_mammal = get_df('포유류')\n",
        "print(df_mammal.shape)\n",
        "df_mammal.head()"
      ],
      "execution_count": 0,
      "outputs": []
    },
    {
      "metadata": {
        "id": "696gzVZtBX0q",
        "colab_type": "code",
        "colab": {}
      },
      "cell_type": "code",
      "source": [
        "df_mammal.describe()"
      ],
      "execution_count": 0,
      "outputs": []
    },
    {
      "metadata": {
        "id": "MgOfme-OBc4i",
        "colab_type": "code",
        "colab": {}
      },
      "cell_type": "code",
      "source": [
        "df_mammal.info()"
      ],
      "execution_count": 0,
      "outputs": []
    },
    {
      "metadata": {
        "id": "pJznhUEoCVwW",
        "colab_type": "code",
        "colab": {}
      },
      "cell_type": "code",
      "source": [
        "df_mammal['몸무게'] = df_mammal['몸무게'].astype(float)\n",
        "df_mammal['뇌무게'] = df_mammal['뇌무게'].astype(float)"
      ],
      "execution_count": 0,
      "outputs": []
    },
    {
      "metadata": {
        "id": "iOKJwW21CoGz",
        "colab_type": "code",
        "colab": {}
      },
      "cell_type": "code",
      "source": [
        "df_mammal.plot()"
      ],
      "execution_count": 0,
      "outputs": []
    }
  ]
}